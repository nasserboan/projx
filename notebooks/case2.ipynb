{
 "cells": [
  {
   "cell_type": "markdown",
   "id": "38c2786f-3ae1-4ac8-8493-e05f68274288",
   "metadata": {},
   "source": [
    "### Caso 2: Operação de um Centro de Distribuição Logístico\n",
    "\n",
    "**Cenário:**  \n",
    "Um centro de distribuição recebe caminhões para carregamento de mercadorias. Os caminhões chegam aleatoriamente, aguardam uma vaga em uma doca de carregamento e, uma vez atendidos, ficam estacionados durante o carregamento.\n",
    "\n",
    "**Informações e Parâmetros Necessários:**  \n",
    "- **Chegada dos Caminhões:**  \n",
    "  - Chegadas modeladas por um processo de Poisson (inter-arrival times exponenciais).  \n",
    "  - Parâmetro: taxa média (por exemplo, um caminhão a cada 10 minutos).\n",
    "\n",
    "- **Recursos – Docks de Carregamento:**  \n",
    "  - O centro dispõe de 3 docas de carregamento, cada uma podendo atender a um caminhão por vez.\n",
    "\n",
    "- **Tempo de Carregamento:**  \n",
    "  - O tempo de serviço (carregamento) para cada caminhão segue uma distribuição normal (ou outra adequada) com média de 15 minutos e desvio padrão de 5 minutos.  \n",
    "  - Em uma versão mais avançada, pode-se considerar diferentes tipos de caminhões com tempos de carregamento diferenciados.\n",
    "\n",
    "- **Duração da Simulação:**  \n",
    "  - Simular um turno de operação de 12 horas.\n",
    "\n",
    "- **Objetivos:**  \n",
    "  - Determinar o tempo médio de espera dos caminhões antes do carregamento.  \n",
    "  - Analisar a utilização das docas e a eficiência do processo logístico.  \n",
    "  - Investigar a possibilidade de implementar prioridades para cargas urgentes, se necessário."
   ]
  },
  {
   "cell_type": "code",
   "execution_count": null,
   "id": "77997829-0106-4fbb-99d8-9b80f8ea9808",
   "metadata": {},
   "outputs": [],
   "source": []
  }
 ],
 "metadata": {
  "kernelspec": {
   "display_name": "Python 3 (ipykernel)",
   "language": "python",
   "name": "python3"
  },
  "language_info": {
   "codemirror_mode": {
    "name": "ipython",
    "version": 3
   },
   "file_extension": ".py",
   "mimetype": "text/x-python",
   "name": "python",
   "nbconvert_exporter": "python",
   "pygments_lexer": "ipython3",
   "version": "3.12.9"
  }
 },
 "nbformat": 4,
 "nbformat_minor": 5
}
