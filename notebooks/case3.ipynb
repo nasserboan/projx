{
 "cells": [
  {
   "cell_type": "markdown",
   "id": "40032716-58b1-4863-8e36-639c7a1cbaaa",
   "metadata": {},
   "source": [
    "### Caso 3: Linha de Produção com Múltiplas Estações e Possíveis Gargalos\n",
    "\n",
    "**Cenário:**  \n",
    "Uma fábrica opera uma linha de produção onde peças passam por diversas etapas: montagem, controle de qualidade e embalagem. Há múltiplas máquinas na etapa de montagem, mas apenas uma estação de controle de qualidade, que pode se tornar um gargalo. Além disso, as máquinas de montagem estão sujeitas a falhas e reparos.\n",
    "\n",
    "**Informações e Parâmetros Necessários:**  \n",
    "\n",
    "- **Chegada das Peças:**  \n",
    "  - As peças ou lotes chegam na linha de produção seguindo um processo de Poisson.  \n",
    "  - Parâmetro: definir uma taxa média de chegada (por exemplo, uma peça a cada 4 minutos).\n",
    "\n",
    "- **Estágio 1 – Montagem:**  \n",
    "  - **Recursos:** 4 máquinas de montagem trabalhando em paralelo.  \n",
    "  - **Tempo de Processamento:** Cada máquina tem um tempo de montagem com média de 5 minutos (pode ser modelado por uma distribuição exponencial ou uniforme).  \n",
    "  - **Falhas:**  \n",
    "    - Cada máquina tem uma probabilidade de falhar (por exemplo, 10% de chance de falha por hora de operação).  \n",
    "    - Quando ocorre uma falha, a máquina fica indisponível por um tempo de reparo (por exemplo, reparo com tempo médio de 15 minutos, distribuído exponencialmente).\n",
    "\n",
    "- **Estágio 2 – Controle de Qualidade:**  \n",
    "  - **Recurso:** Uma única estação de controle de qualidade.  \n",
    "  - **Tempo de Processamento:** Tempo médio de 10 minutos por peça, com variação (pode ser uma distribuição normal ou exponencial).\n",
    "\n",
    "- **Estágio 3 – Embalagem:**  \n",
    "  - **Recursos:** 2 operadores responsáveis pela embalagem, atuando em paralelo.  \n",
    "  - **Tempo de Processamento:** Tempo médio de 3 minutos por peça.\n",
    "\n",
    "- **Duração da Simulação:**  \n",
    "  - Simular o funcionamento durante um período representativo (por exemplo, 8 horas de produção).\n",
    "\n",
    "- **Objetivos:**  \n",
    "  - Identificar o tempo total de permanência de uma peça na linha de produção (lead time).  \n",
    "  - Determinar a utilização e a eficiência de cada estação de trabalho.  \n",
    "  - Analisar o impacto das falhas e reparos das máquinas de montagem na performance global da linha.  \n",
    "  - Sugerir melhorias para minimizar gargalos, especialmente no controle de qualidade."
   ]
  },
  {
   "cell_type": "code",
   "execution_count": null,
   "id": "aa5d7280-4b67-4352-aa59-459a310dd965",
   "metadata": {},
   "outputs": [],
   "source": []
  }
 ],
 "metadata": {
  "kernelspec": {
   "display_name": "Python 3 (ipykernel)",
   "language": "python",
   "name": "python3"
  },
  "language_info": {
   "codemirror_mode": {
    "name": "ipython",
    "version": 3
   },
   "file_extension": ".py",
   "mimetype": "text/x-python",
   "name": "python",
   "nbconvert_exporter": "python",
   "pygments_lexer": "ipython3",
   "version": "3.12.9"
  }
 },
 "nbformat": 4,
 "nbformat_minor": 5
}
